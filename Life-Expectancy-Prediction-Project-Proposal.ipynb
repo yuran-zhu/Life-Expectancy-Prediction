{
 "cells": [
  {
   "cell_type": "markdown",
   "metadata": {},
   "source": [
    "# Life Expectancy Prediction and Analysis - What factors impact life span?\n",
    "## Project Proposal"
   ]
  },
  {
   "cell_type": "markdown",
   "metadata": {},
   "source": [
    "*95-885 Data Science and Big Data - Project 2: Adding Value via Machine Learning*"
   ]
  },
  {
   "cell_type": "markdown",
   "metadata": {},
   "source": [
    "**Team 12<br>\n",
    "Blake Tian (sixuant)<br>\n",
    "Yuran Zhu (yuranz)**"
   ]
  },
  {
   "cell_type": "markdown",
   "metadata": {
    "id": "u5xZFaLhZlvh"
   },
   "source": [
    "# I. Motivation\n",
    "\n",
    "### 1. Key Motivation\n",
    "\n",
    "Life expectancy of humans has progressed sharply during the last 200 years. According to [Our World in Data](https://ourworldindata.org/life-expectancy#:~:text=The%20United%20Nations%20estimate%20a,any%20country%20back%20in%201950), average global life expectancy in 1800 is 29 years, the life expectancy grew to 46 years in 1950. It was not until 2015 when the global average life expectancy reached 71 years. A long path was taken for humans to live longer, and we are wondering what changes possibly triggers this growth. Considering individual health conditions, national development and healthcare focus, many factors may impact life expectancy, and it's vital for the world to identify relevant factors as well as their impacting mechanisms.\n",
    "\n",
    "### 2. Significance & Potential Value\n",
    "\n",
    "Even though the world’s average life expectancy reached 71 years, there is still a wide variation between countries. According to [Worldometer](https://www.worldometers.info/demographics/life-expectancy/), the average life expectancies ranges from 54.36 to 85.29 across all countries in 2020. In countries like Japan, Switzerland, and Singapore, the life expectancy is around 84 years, while in countries like Chad, Lesotho, and the Central African Republic, the life expectancy is only around 55 years. Even though the world is developing as a whole, there are a lot of countries lagging behind, fighting for longer and better living. There are still 35 countries, with billions of peoples, struggling with life expectancy around 55 to 65 years. We want to leverage on machine learning models with relevant features to help those 35 countries identify what would be the key development factors they should focus on in improving citizens’ life expectancy. "
   ]
  },
  {
   "cell_type": "markdown",
   "metadata": {
    "id": "aZiR3WbWZ50m"
   },
   "source": [
    "# II. Related work\n",
    "\n",
    "This problem originated from an article we read about the [life expectancy of the United States](https://ourworldindata.org/us-life-expectancy-low). The author stated that although the United States is classified as a “rich country”, it is still having a much lower average life expectancy compared to other rich countries including Switzerland, Japan, and Norway etc. In our common sense, we thought that life expectancy is mainly affected by the overall “richness” of a country. However, this case inspired us to look from several different angles with the problem. Hereby, we are looking not only on the power of expenditure, but also the countries’ overall healthcare and economy."
   ]
  },
  {
   "cell_type": "markdown",
   "metadata": {
    "id": "Zv9i46sKZ579"
   },
   "source": [
    "# III. Overview of the project goals\n",
    "In this machine learning project, our team plans to use a combined dataset from the World Health Organization (WHO) and United Nations (UN) to predict life expectancy. With various health factors and economic factors for 193 countries, we are inspired to investigate variables that affect life expectancy and uncover the correlations between them. \n",
    "\n",
    "### 1. Type of Learning\n",
    "\n",
    "Within the three types of machine learning, supervised learning, unsupervised learning, reinforcement learning, our prediction problem is a **supervised learning** problem, and is in the category of **regression**. Therefore, we’ll explore predictive models to investigate the relationship between the life expectancy and available healthcare/economic/social factors.\n",
    "\n",
    "### 2. Domain Definition\n",
    "\n",
    "With reference to `P(T, E+ ΔE) > P(T, E)`, here goes our clarification for the life expectancy prediction problem. \n",
    "  - **Task T:** Predict the life expectancy for a given country\n",
    "  - **Experience E:** Historical data for countries about health, economic and social factors, as well as life expectancy\n",
    "  - **Performance measure P:** Root Mean Squared Error (RMSE), R-Squared\n",
    "\n",
    "\\begin{equation*}\n",
    "RMSE = \\sqrt{\\frac{1}{n} \\sum_{i=1}^n (y_i - \\hat{y_i})^2} \n",
    "\\end{equation*}\n",
    "\n",
    "\\begin{equation*}\n",
    "R^2 = 1 - \\frac{RSS}{TSS} = 1 - \\frac{\\sum_{i=1}^n (y_i - \\hat{y_i})^2}{\\sum_{i=1}^n (y_i - \\bar{y_i})^2}\n",
    "\\end{equation*}\n",
    "\n",
    "    \n",
    "The baseline model would be to use **simple summary statistics** to create predictions for the life span, such as the mean values of the independent variable (life expectancy) data. Our machine learning models will learn from the experience and improve the performance in the prediction problem.\n"
   ]
  },
  {
   "cell_type": "markdown",
   "metadata": {
    "id": "WhssWhxJZ5_C"
   },
   "source": [
    "# IV. Data\n",
    "\n",
    "### 1. Nature of Data\n",
    "\n",
    "The data was collected from the WHO and the UN website and is available on [Kaggle](https://www.kaggle.com/kumarajarshi/life-expectancy-who). On the one hand, the Global Health Observatory under WHO keeps track of the life expectancy and other related health factors for all 193 countries across the years 2000 to 2015. On the other hand, the United Nations keeps track of economic data for all countries across the same time frame.\n",
    "\n",
    "**Data Composition**\n",
    "\n",
    "The dataset consists of **22 columns** and **2,938 rows**. Each row refers to a country, and each column refers to one country level health related or economic features. The health related features include `life expectancy, adult mortality, infant deaths, alcohol drinking, hepatitis B, measles, BMI, HIV/AIDS`, etc. The economic features include `development status, percentage expenditure, GDP, population, schooling`, etc. There are 2 columns that are object type, 4 columns that are integer type, and 16 columns that are float type. With initial data exploration, we find:\n",
    "- The `life expectancy` column can be used as a dependent variable during our machine learning process.\n",
    "- The `population` column has 22.2% missing values.\n",
    "- The `Hepatitis B` columns have 18.8% missing values.\n",
    "- The `GDP` has 15.2% missing values.\n",
    "- There are also 13 other columns which have 0.3% - 6.6% of **missing values**.\n",
    "\n",
    "To conclude, the data is not that clean and we need to perform more data exploration and preprocessing before feeding into the machine learning model.\n",
    "\n",
    "### 2. Other Data Use\n",
    "\n",
    "We could possibly use other economic data for these countries to inspect specific problems:\n",
    "- We could use the Human Development Index, and other healthcare development index to inspect whether the null values are associated with the countries’ development in specific aspects.\n",
    "- We could also use other aspects of data including politics, environmental, and social dataset to inspect if there are other aspects that affect life expectancy other than healthcare and economy.\n",
    "\n"
   ]
  },
  {
   "cell_type": "markdown",
   "metadata": {
    "id": "h05RIXfQawI_"
   },
   "source": [
    "# V. Project Plan\n",
    "\n",
    "After exploring and preparing data, we’ll focus on the model part. For this regression problem, we plan to consider **multiple regression models including Multi Linear Regression, Polynomial Regression, Lasso Regression, Ridge Regression, Decision Tree Regression, Random Forest Regression, Support Vector Regression**. For model evaluation, we aim to focus on the performance of the **Root Mean Squared Error (RMSE) and R-Squared**. With hyperparameters fine-tuning, we’ll select the model with the best performance. Finally, we'll interpret the model results and conclude insights wih repsect to healthcare and development aspect as well as business. sense\n",
    "\n",
    "### 1. Workflow\n",
    "1. Data preprocessing\n",
    "    - Conduct cleaning and transformation on the dataset for easier manipulation\n",
    "<br>\n",
    "2. Exploratory data analysis\n",
    "    - Study each attribute and its characteristic, including missing values, outliers, distributions, and consider the potential of use in the task\n",
    "    - Study the correlations between variables\n",
    "    - Visualize data for highlighting insights\n",
    "<br>\n",
    "3. Data preparation\n",
    "    - Data cleaning and impute missing values\n",
    "    - Feature engineering, including one-hot encoding for categorical features, adding promising transformations of features, etc.\n",
    "    - Feature scaling if applicable\n",
    "<br>\n",
    "4. Model evaluation\n",
    "    - Train multiple models with standard parameters\n",
    "    - Validate models with cross validation\n",
    "    - Analyze the most significant features for each algorithm\n",
    "    - Compare and evaluate models using performance measures\n",
    "<br>\n",
    "5. Fine-tune the hyperparameters\n",
    "    - Use grid search for hyperparameter optimization\n",
    "<br>\n",
    "6. Final model selection and test \n",
    "    - Decide the final selection and test its performance to estimate the generalization error \n",
    "<br>\n",
    "7. Model interpretation \n",
    "    - Interpret model results, conclude insights based on it, and put forward recommendations"
   ]
  },
  {
   "cell_type": "markdown",
   "metadata": {
    "id": "_aYzfICMZ3Au"
   },
   "source": [
    "Followed by the life expectancy prediction, we are also interested in exploring the global similarity and disparity among countries. Hence, we plan to perform basic **Clustering** algorithms for unsupervised learning, which aims to group countries based on various indicators, and thereby to map the gap among development status for countries, in terms of healthcare, economics, and society development, etc. We hope to eventually visualize clusters on a world map, to trigger more insights for the international organizations on leveraging and promoting the global development.\n",
    "\n",
    "### 2. Possible findings and implications\n",
    "\n",
    "As mentioned in the data description, the features we might use contain `health/disease aspects, economic indicators, healthcare expenditure, eating habits, lifestyles, and schooling`, etc. Based on it, we can explore the following problems and learn insights from it.\n",
    "- Relationships between eating habits, lifestyles and the life span. It would provide data-driven insights and guidance for individuals to keep track of a healthy life.\n",
    "- The impact of schooling on life expectancy. It can motivate governments, UN, and related stakeholders to implement education-related policies and measures.\n",
    "- The impact of immunization coverage on life expectancy. It can inspire WHO and related organizations, governments to think about expanding the immunization coverage on certain diseases.\n",
    "\n",
    "Overall, we hope to reveal the relationships between life expectancy and variou country-level factors, inspiring us to explore the direct pathway and useful measures for countries to better predict life span and come up with corresponding recommendations."
   ]
  },
  {
   "cell_type": "code",
   "execution_count": null,
   "metadata": {},
   "outputs": [],
   "source": []
  }
 ],
 "metadata": {
  "colab": {
   "collapsed_sections": [],
   "name": "95885-Project2-Team12.ipynb",
   "provenance": []
  },
  "kernelspec": {
   "display_name": "Python 3",
   "language": "python",
   "name": "python3"
  },
  "language_info": {
   "codemirror_mode": {
    "name": "ipython",
    "version": 3
   },
   "file_extension": ".py",
   "mimetype": "text/x-python",
   "name": "python",
   "nbconvert_exporter": "python",
   "pygments_lexer": "ipython3",
   "version": "3.8.3"
  }
 },
 "nbformat": 4,
 "nbformat_minor": 4
}
